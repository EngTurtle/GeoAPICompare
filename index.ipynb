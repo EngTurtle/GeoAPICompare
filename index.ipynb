{
 "cells": [
  {
   "cell_type": "markdown",
   "metadata": {},
   "source": [
    "# GeoAPI price comparison\n",
    "\n",
    "Last updated 2019-06-19\n",
    "\n",
    "The applet at the bottom of the notebook estimates the monthly charge for using various GeoAPI providers in your project."
   ]
  },
  {
   "cell_type": "code",
   "execution_count": 1,
   "metadata": {
    "hide_input": false,
    "pycharm": {
     "is_executing": false
    },
    "scrolled": true
   },
   "outputs": [],
   "source": [
    "import numpy as np\n",
    "from ipywidgets import Layout, Button, Box\n",
    "import ipywidgets as widgets\n",
    "from IPython.display import display, HTML\n",
    "import pandas as pd"
   ]
  },
  {
   "cell_type": "markdown",
   "metadata": {},
   "source": [
    "https://cloud.google.com/maps-platform/pricing/sheet/"
   ]
  },
  {
   "cell_type": "code",
   "execution_count": 2,
   "metadata": {
    "pycharm": {
     "is_executing": false
    }
   },
   "outputs": [],
   "source": [
    "def google(geocode=0, route=0, distmat=0, freecredit=True):\n",
    "    funclist = [\n",
    "        lambda x: (x * 0.004) + 500,\n",
    "        lambda x: x * 0.005,\n",
    "        lambda _: np.nan\n",
    "    ]\n",
    "\n",
    "    credit = 0.\n",
    "    if freecredit:\n",
    "        credit = 200.\n",
    "    out = geocode + route + distmat\n",
    "    condlist = [\n",
    "        (100000 < out) and (out <= 500000),\n",
    "        (0 <= out) and (out <= 100000),\n",
    "    ]\n",
    "    out = np.piecewise(geocode + route + distmat,\n",
    "                       condlist=condlist,\n",
    "                       funclist=funclist) - credit\n",
    "    return np.piecewise(out, condlist=[out > 0],\n",
    "                        funclist=[\n",
    "                            lambda x: x,\n",
    "                            0\n",
    "                        ])\n",
    "\n",
    "assert google() == 0"
   ]
  },
  {
   "cell_type": "markdown",
   "metadata": {},
   "source": [
    "https://developers.arcgis.com/pricing/credits/"
   ]
  },
  {
   "cell_type": "code",
   "execution_count": 3,
   "metadata": {
    "pycharm": {
     "is_executing": false
    }
   },
   "outputs": [],
   "source": [
    "def esri(geocode=0, route=0, distmat=0, freecredit=True):\n",
    "    nans = geocode + route + distmat > 1000000\n",
    "\n",
    "    geocode = geocode * 0.004\n",
    "    route = route * 0.0005\n",
    "    distmat = distmat * 0.00005\n",
    "    credit = 0.\n",
    "    if freecredit:\n",
    "        credit = 5.\n",
    "\n",
    "    out = (geocode + route + distmat) - credit\n",
    "\n",
    "    if type(out) is np.ndarray:\n",
    "        out[nans] = np.nan\n",
    "    elif nans:\n",
    "        return np.nan\n",
    "\n",
    "    return np.piecewise(out, condlist=[out > 0],\n",
    "                        funclist=[\n",
    "                            lambda x: x,\n",
    "                            0.\n",
    "                        ])\n",
    "\n",
    "assert esri() == 0"
   ]
  },
  {
   "cell_type": "markdown",
   "metadata": {},
   "source": [
    "https://geocoder.ca/pricing"
   ]
  },
  {
   "cell_type": "code",
   "execution_count": 4,
   "metadata": {
    "pycharm": {
     "is_executing": false
    }
   },
   "outputs": [],
   "source": [
    "def geocoder_ca(geocode=0, route=0, distmat=0, freecredit=True):\n",
    "    assert np.sum(route) == 0\n",
    "    assert np.sum(distmat) == 0\n",
    "\n",
    "    if freecredit:\n",
    "        geocode = geocode - 76050\n",
    "    return np.piecewise(geocode,\n",
    "                        condlist=[\n",
    "                            geocode > 200000,\n",
    "                            (geocode <= 200000) and (geocode >= 0)\n",
    "                        ],\n",
    "                        funclist=[\n",
    "                            500.,\n",
    "                            lambda x: x * 0.0025,\n",
    "                            0.\n",
    "                        ])\n",
    "\n",
    "assert geocoder_ca() == 0"
   ]
  },
  {
   "cell_type": "markdown",
   "metadata": {},
   "source": [
    "https://developer.here.com/plans"
   ]
  },
  {
   "cell_type": "code",
   "execution_count": 5,
   "metadata": {
    "pycharm": {
     "is_executing": false
    }
   },
   "outputs": [],
   "source": [
    "def here(geocode=0, route=0, distmat=0, freecredit=False):\n",
    "    \"\"\"\n",
    "    for matrix Routing one transaction is counted for each start point request\n",
    "    \"\"\"\n",
    "    out = geocode + route + distmat\n",
    "    out = np.array(out, dtype=float)\n",
    "    return np.piecewise(out,\n",
    "                        condlist=[\n",
    "                            (out > 449000) and (out <= 1000000),\n",
    "                            (out > 250000) and (out <= 449000),\n",
    "                            (out >= 0) and (out <= 250000)\n",
    "                        ],\n",
    "                        funclist=[\n",
    "                            449.,\n",
    "                            lambda x: x / 1000,\n",
    "                            0.,\n",
    "                            np.nan\n",
    "                        ])\n",
    "\n",
    "assert here() == 0"
   ]
  },
  {
   "cell_type": "markdown",
   "metadata": {},
   "source": [
    "https://azure.microsoft.com/en-ca/pricing/details/azure-maps/"
   ]
  },
  {
   "cell_type": "code",
   "execution_count": 6,
   "metadata": {
    "pycharm": {
     "is_executing": false
    }
   },
   "outputs": [],
   "source": [
    "def azure(geocode=0, route=0, distmat=0, freecredit=True):\n",
    "    price = 0.0005\n",
    "    free_trans = 0\n",
    "    if freecredit:\n",
    "        free_trans = 25000\n",
    "    if np.sum(distmat) > 0:\n",
    "        price = 0.005\n",
    "        free_trans = 0\n",
    "    out = geocode + route + distmat\n",
    "    out = np.array(out, dtype=float)\n",
    "    return np.piecewise(out,\n",
    "                        condlist=[out <= free_trans],\n",
    "                        funclist=[\n",
    "                            0.,\n",
    "                            lambda x: (x - free_trans) * price\n",
    "                        ])\n",
    "\n",
    "assert azure() == 0"
   ]
  },
  {
   "cell_type": "markdown",
   "metadata": {},
   "source": [
    "https://www.loqate.com/en-us/pricing/price-per-lookup/"
   ]
  },
  {
   "cell_type": "code",
   "execution_count": 7,
   "metadata": {
    "pycharm": {
     "is_executing": false
    }
   },
   "outputs": [],
   "source": [
    "def loqate(geocode=0, route=0, distmat=0, freecredit=False):\n",
    "    \"\"\"\n",
    "    The requests are purchased in packages of $100, $300, or $1000\n",
    "    and each package is good for 12 months\n",
    "\n",
    "    so calculations are based on the average monthly cost over a year\n",
    "    \"\"\"\n",
    "    assert np.sum(distmat) == 0\n",
    "    geocode = geocode * 12\n",
    "    geocode = np.piecewise(geocode,\n",
    "                           condlist=[\n",
    "                               geocode > 28669,\n",
    "                               (geocode > 8012) and (geocode <= 28669),\n",
    "                               (geocode > 2500) and (geocode <= 8012),\n",
    "                               (geocode > 0) and (geocode <= 2500)\n",
    "                           ],\n",
    "                           funclist=[\n",
    "                               lambda x: np.ceil(x / 28669) * 1000,\n",
    "                               1000.,\n",
    "                               300.,\n",
    "                               100.,\n",
    "                               0\n",
    "                           ]) / 12.\n",
    "    route = route * 12\n",
    "    route = np.piecewise(route,\n",
    "                         condlist=[\n",
    "                             route > 14084,\n",
    "                             (route > 3370) and (route <= 14084),\n",
    "                             (route > 1000) and (route <= 3370),\n",
    "                             (route > 0) and (route <= 1000)\n",
    "                         ],\n",
    "                         funclist=[\n",
    "                             lambda x: np.ceil(x / 14084) * 1000,\n",
    "                             1000.,\n",
    "                             300.,\n",
    "                             100.,\n",
    "                             0\n",
    "                         ]) / 12.\n",
    "    return np.array(geocode + route, dtype=float)\n",
    "\n",
    "assert loqate() == 0"
   ]
  },
  {
   "cell_type": "markdown",
   "metadata": {},
   "source": [
    "https://www.geocod.io/pricing/"
   ]
  },
  {
   "cell_type": "code",
   "execution_count": 8,
   "metadata": {
    "hide_input": false,
    "pycharm": {
     "is_executing": false
    },
    "scrolled": true
   },
   "outputs": [],
   "source": [
    "def geocodio(geocode=0, route=0, distmat=0, freecredit=True):\n",
    "    assert np.sum(route) == 0\n",
    "    assert np.sum(distmat) == 0\n",
    "    geocode = np.array(geocode, dtype=float)\n",
    "    if freecredit:\n",
    "        geocode = geocode - 76050.\n",
    "    return np.piecewise(geocode,\n",
    "                        condlist=[\n",
    "                            geocode > 1500000,\n",
    "                            (geocode <= 1500000) and (geocode > 0)\n",
    "                        ],\n",
    "                        funclist=[\n",
    "                            750.,\n",
    "                            lambda x: x * 0.0005,\n",
    "                            0.\n",
    "                        ])\n",
    "\n",
    "assert geocodio() == 0"
   ]
  },
  {
   "cell_type": "code",
   "execution_count": 9,
   "metadata": {
    "hide_input": true,
    "pycharm": {
     "is_executing": false
    }
   },
   "outputs": [],
   "source": [
    "geocoders = [\"Google\", \"ESRI\", \"geocoder.ca\", \"Here\",\n",
    "             \"Azure\", \"Loqate\", \"geocodio\"]\n",
    "\n",
    "routers = [\"Google\", \"ESRI\", \"\", \"Here\",\n",
    "             \"Azure\", \"Loqate\", \"\"]\n",
    "\n",
    "distmaters = [\"Google\", \"ESRI\", \"\", \"Here\",\n",
    "             \"Azure\", \"\", \"\"]"
   ]
  },
  {
   "cell_type": "code",
   "execution_count": 10,
   "metadata": {
    "hide_input": true
   },
   "outputs": [],
   "source": [
    "def cost(geocoder:str, geocode:int,\n",
    "         router:str, route:int,\n",
    "         distmater:str, distmat:int):\n",
    "    cost_functions = [google, esri, geocoder_ca, here, azure, loqate, geocodio]\n",
    "    \n",
    "    geocode_input = [0] * len(cost_functions)\n",
    "    route_input = [0] * len(cost_functions)\n",
    "    distmat_input = [0] * len(cost_functions)\n",
    "    \n",
    "    if geocoder in geocoders:\n",
    "        geocode_input[geocoders.index(geocoder)] = geocode\n",
    "        \n",
    "    if router in routers:\n",
    "        route_input[routers.index(router)] = route\n",
    "        \n",
    "    if distmater in distmaters:\n",
    "        distmat_input[distmaters.index(distmater)] = distmat\n",
    "        \n",
    "    inputs = zip(geocode_input, route_input, distmat_input)\n",
    "    out = {}\n",
    "    \n",
    "    for func, inp, name in zip(cost_functions, inputs, geocoders):\n",
    "        try:\n",
    "            funcout = func(*inp)\n",
    "            if np.isnan(funcout):\n",
    "                raise ValueError\n",
    "            out[name] = float(funcout)\n",
    "        except ValueError:\n",
    "            out[name] = \"Please contact \" + name\n",
    "    return out\n",
    "\n",
    "def cost_to_html(*args, **kwargs):\n",
    "    costs: dict = cost(*args, **kwargs)\n",
    "    for service in costs.keys():\n",
    "        if type(costs[service]) is float:\n",
    "            costs[service] = \"${:.2f}\".format(costs[service])\n",
    "    costs: pd.DataFrame = pd.DataFrame(zip(costs.keys(),costs.values()), columns=[\"Provider\", \"Monthly Charge (USD)\"])\n",
    "    return display(HTML(costs.to_html(index=False)))"
   ]
  },
  {
   "cell_type": "code",
   "execution_count": 11,
   "metadata": {
    "hide_input": true,
    "scrolled": true
   },
   "outputs": [],
   "source": [
    "selector_layout = Layout(display='flex',align_items='stretch', width='30%')\n",
    "num_layout = Layout(display='flex',align_items='stretch', width='70%')\n",
    "style = {'description_width': 'initial'}\n",
    "layout=Layout(display='flex',width='95%')\n",
    "\n",
    "geocoder_wig = widgets.Dropdown(\n",
    "    options=geocoders,\n",
    "    value='Google',\n",
    "    description='Geocode provider',\n",
    "    layout=layout,\n",
    "    style=style\n",
    "    \n",
    ")\n",
    "\n",
    "geocode_wig = widgets.IntSlider(\n",
    "    value=1000,\n",
    "    min=0,\n",
    "    max=2500000,\n",
    "    step=100,\n",
    "    description='Geocodes per month',\n",
    "    continuous_update=False,\n",
    "    layout=layout,\n",
    "    style=style\n",
    ")\n",
    "\n",
    "router_wig = widgets.Dropdown(\n",
    "    options=[r for r in routers if r != \"\"],\n",
    "    value='Google',\n",
    "    description='Route provider',\n",
    "    layout=layout,\n",
    "    style=style\n",
    ")\n",
    "\n",
    "route_wig = widgets.IntSlider(\n",
    "    value=1000,\n",
    "    min=0,\n",
    "    max=1000000,\n",
    "    step=100,\n",
    "    description='Routes per month',\n",
    "    continuous_update=False,\n",
    "    layout=layout,\n",
    "    style=style\n",
    ")\n",
    "\n",
    "distmater_wig = widgets.Dropdown(\n",
    "    options=[r for r in distmaters if r != \"\"],\n",
    "    value='Google',\n",
    "    description='Distance matrix provider',\n",
    "    layout=layout,\n",
    "    style=style\n",
    ")\n",
    "\n",
    "distmate_wig = widgets.IntSlider(\n",
    "    value=1000,\n",
    "    min=0,\n",
    "    max=1000000,\n",
    "    step=100,\n",
    "    description='OD pairs per month',\n",
    "    continuous_update=False,\n",
    "    layout=layout,\n",
    "    style=style\n",
    ")\n",
    "\n",
    "selector_wigs = widgets.VBox([geocoder_wig, router_wig, distmater_wig], layout=selector_layout)\n",
    "num_wigs = widgets.VBox([geocode_wig, route_wig, distmate_wig], layout=num_layout)\n",
    "\n",
    "input_wigs = widgets.HBox([selector_wigs, num_wigs], layout=Layout(display='flex',align_items='stretch', width='100%'))\n",
    "\n",
    "output_wig = widgets.interactive_output(cost_to_html, dict(\n",
    "                 geocoder=geocoder_wig, geocode=geocode_wig,\n",
    "                 router=router_wig, route=route_wig,\n",
    "                 distmater=distmater_wig, distmat=distmate_wig))\n",
    "\n",
    "out = widgets.VBox([input_wigs, output_wig])"
   ]
  },
  {
   "cell_type": "code",
   "execution_count": 12,
   "metadata": {
    "hide_input": true
   },
   "outputs": [
    {
     "data": {
      "application/vnd.jupyter.widget-view+json": {
       "model_id": "3bd5b309cad940a48a2850298f3858bc",
       "version_major": 2,
       "version_minor": 0
      },
      "text/plain": [
       "VBox(children=(HBox(children=(VBox(children=(Dropdown(description='Geocode provider', layout=Layout(display='f…"
      ]
     },
     "metadata": {},
     "output_type": "display_data"
    }
   ],
   "source": [
    "display(out)"
   ]
  }
 ],
 "metadata": {
  "kernelspec": {
   "display_name": "Python 3",
   "language": "python",
   "name": "python3"
  },
  "language_info": {
   "codemirror_mode": {
    "name": "ipython",
    "version": 3
   },
   "file_extension": ".py",
   "mimetype": "text/x-python",
   "name": "python",
   "nbconvert_exporter": "python",
   "pygments_lexer": "ipython3",
   "version": "3.7.3"
  },
  "pycharm": {
   "stem_cell": {
    "cell_type": "raw",
    "source": [],
    "metadata": {
     "collapsed": false
    }
   }
  },
  "varInspector": {
   "cols": {
    "lenName": 16,
    "lenType": 16,
    "lenVar": 40
   },
   "kernels_config": {
    "python": {
     "delete_cmd_postfix": "",
     "delete_cmd_prefix": "del ",
     "library": "var_list.py",
     "varRefreshCmd": "print(var_dic_list())"
    },
    "r": {
     "delete_cmd_postfix": ") ",
     "delete_cmd_prefix": "rm(",
     "library": "var_list.r",
     "varRefreshCmd": "cat(var_dic_list()) "
    }
   },
   "types_to_exclude": [
    "module",
    "function",
    "builtin_function_or_method",
    "instance",
    "_Feature"
   ],
   "window_display": false
  },
  "widgets": {
   "application/vnd.jupyter.widget-state+json": {
    "state": {
     "00737b296ca9402693ae3f81e2e3abd0": {
      "model_module": "@jupyter-widgets/controls",
      "model_module_version": "1.4.0",
      "model_name": "DropdownModel",
      "state": {
       "_options_labels": [
        "Google",
        "ESRI",
        "geocoder.ca",
        "Here",
        "Azure",
        "Loqate",
        "geocodio"
       ],
       "description": "Geocode provider",
       "index": 1,
       "layout": "IPY_MODEL_1e69cb36b8574dc9965b6f76ed82c04d",
       "style": "IPY_MODEL_10033122f2ee4f8e95b10340741a6d93"
      }
     },
     "027e96c7c531402bb14193425411eca1": {
      "model_module": "@jupyter-widgets/controls",
      "model_module_version": "1.4.0",
      "model_name": "SliderStyleModel",
      "state": {
       "description_width": "initial"
      }
     },
     "042b7ad0f7454a59afa37b3cea39c11b": {
      "model_module": "@jupyter-widgets/controls",
      "model_module_version": "1.4.0",
      "model_name": "HBoxModel",
      "state": {
       "children": [
        "IPY_MODEL_ee788afd46c340b284b56a71cf5dafc6",
        "IPY_MODEL_17182dd56dae4930961cfc54c4d0b32a"
       ],
       "layout": "IPY_MODEL_40d392bc93134e04ae5a152acfee651f"
      }
     },
     "044cf9d6141e45898e637cdbd967757d": {
      "model_module": "@jupyter-widgets/controls",
      "model_module_version": "1.4.0",
      "model_name": "HBoxModel",
      "state": {
       "children": [
        "IPY_MODEL_05a2dbd946e04869b2356e4d96275c04",
        "IPY_MODEL_7e9d48dd5eb2440ba0138da676a2de11"
       ],
       "layout": "IPY_MODEL_ce540bf0202a40f3aa1531a03c9f1102"
      }
     },
     "045be8b836324220998d58b080a87851": {
      "model_module": "@jupyter-widgets/controls",
      "model_module_version": "1.4.0",
      "model_name": "DropdownModel",
      "state": {
       "_options_labels": [
        "Google",
        "ESRI",
        "Here",
        "Azure",
        "Loqate"
       ],
       "description": "Route provider",
       "index": 0,
       "layout": "IPY_MODEL_199b8166edb04608b895ff05e19fc624",
       "style": "IPY_MODEL_208356e583d84d5b91e6d6133a991182"
      }
     },
     "05a2dbd946e04869b2356e4d96275c04": {
      "model_module": "@jupyter-widgets/controls",
      "model_module_version": "1.4.0",
      "model_name": "VBoxModel",
      "state": {
       "children": [
        "IPY_MODEL_00737b296ca9402693ae3f81e2e3abd0",
        "IPY_MODEL_99d825e381314172af2d1c200a37f6ca",
        "IPY_MODEL_44d913c8dc6347be943b1bc6b5aebc44"
       ],
       "layout": "IPY_MODEL_faa3aa73238e451daf1ba4ba98452ab0"
      }
     },
     "08118d8709b447c7be8c5cd1fa5c07f5": {
      "model_module": "@jupyter-widgets/controls",
      "model_module_version": "1.4.0",
      "model_name": "HBoxModel",
      "state": {
       "children": [
        "IPY_MODEL_855d77e600e545bdb18937bce0e914ab",
        "IPY_MODEL_6f113fa73a804f32bdcede9ebd2d67e7"
       ],
       "layout": "IPY_MODEL_298484d9b28c4c9fa75ef7418e366a7d"
      }
     },
     "08911fb067414bb2a6c69478f7a79a67": {
      "model_module": "@jupyter-widgets/base",
      "model_module_version": "1.1.0",
      "model_name": "LayoutModel",
      "state": {}
     },
     "0d653b5353e4423cbe39c1cb8df05283": {
      "model_module": "@jupyter-widgets/controls",
      "model_module_version": "1.4.0",
      "model_name": "DescriptionStyleModel",
      "state": {
       "description_width": "initial"
      }
     },
     "0ea881fcee624c599b81ca030ca00034": {
      "model_module": "@jupyter-widgets/controls",
      "model_module_version": "1.4.0",
      "model_name": "DropdownModel",
      "state": {
       "_options_labels": [
        "Google",
        "ESRI",
        "Here",
        "Azure",
        "Loqate"
       ],
       "description": "Route provider",
       "index": 0,
       "layout": "IPY_MODEL_2857e76d59e74a78a3a85872409db909",
       "style": "IPY_MODEL_0f65877824d24efea88d0db50de95204"
      }
     },
     "0f65877824d24efea88d0db50de95204": {
      "model_module": "@jupyter-widgets/controls",
      "model_module_version": "1.4.0",
      "model_name": "DescriptionStyleModel",
      "state": {
       "description_width": "initial"
      }
     },
     "10033122f2ee4f8e95b10340741a6d93": {
      "model_module": "@jupyter-widgets/controls",
      "model_module_version": "1.4.0",
      "model_name": "DescriptionStyleModel",
      "state": {
       "description_width": "initial"
      }
     },
     "17182dd56dae4930961cfc54c4d0b32a": {
      "model_module": "@jupyter-widgets/controls",
      "model_module_version": "1.4.0",
      "model_name": "VBoxModel",
      "state": {
       "children": [
        "IPY_MODEL_817f3785dbe446a98df46623f37daf01",
        "IPY_MODEL_4060c03dfb23462fb85d840c29dd22c3",
        "IPY_MODEL_29b12d085bcc48fbb7dc620120a8b950"
       ],
       "layout": "IPY_MODEL_7a112f45fd9c47ee9d3651df64523aad"
      }
     },
     "175baf0b025b4d46a4530bda431ee5d6": {
      "model_module": "@jupyter-widgets/controls",
      "model_module_version": "1.4.0",
      "model_name": "IntSliderModel",
      "state": {
       "continuous_update": false,
       "description": "OD pairs per month",
       "layout": "IPY_MODEL_2857e76d59e74a78a3a85872409db909",
       "max": 1000000,
       "step": 100,
       "style": "IPY_MODEL_027e96c7c531402bb14193425411eca1",
       "value": 8000
      }
     },
     "199b8166edb04608b895ff05e19fc624": {
      "model_module": "@jupyter-widgets/base",
      "model_module_version": "1.1.0",
      "model_name": "LayoutModel",
      "state": {
       "display": "flex",
       "width": "95%"
      }
     },
     "1e69cb36b8574dc9965b6f76ed82c04d": {
      "model_module": "@jupyter-widgets/base",
      "model_module_version": "1.1.0",
      "model_name": "LayoutModel",
      "state": {
       "display": "flex",
       "width": "95%"
      }
     },
     "208356e583d84d5b91e6d6133a991182": {
      "model_module": "@jupyter-widgets/controls",
      "model_module_version": "1.4.0",
      "model_name": "DescriptionStyleModel",
      "state": {
       "description_width": "initial"
      }
     },
     "24dea6655bcf4993a418f8f3dd46c3c9": {
      "model_module": "@jupyter-widgets/controls",
      "model_module_version": "1.4.0",
      "model_name": "SliderStyleModel",
      "state": {
       "description_width": "initial"
      }
     },
     "2621a9a4529d402880013d9191f0774f": {
      "model_module": "@jupyter-widgets/base",
      "model_module_version": "1.1.0",
      "model_name": "LayoutModel",
      "state": {
       "align_items": "stretch",
       "display": "flex",
       "width": "70%"
      }
     },
     "2857e76d59e74a78a3a85872409db909": {
      "model_module": "@jupyter-widgets/base",
      "model_module_version": "1.1.0",
      "model_name": "LayoutModel",
      "state": {
       "display": "flex",
       "width": "95%"
      }
     },
     "298484d9b28c4c9fa75ef7418e366a7d": {
      "model_module": "@jupyter-widgets/base",
      "model_module_version": "1.1.0",
      "model_name": "LayoutModel",
      "state": {
       "align_items": "stretch",
       "display": "flex",
       "width": "100%"
      }
     },
     "29b12d085bcc48fbb7dc620120a8b950": {
      "model_module": "@jupyter-widgets/controls",
      "model_module_version": "1.4.0",
      "model_name": "IntSliderModel",
      "state": {
       "continuous_update": false,
       "description": "OD pairs per month",
       "layout": "IPY_MODEL_199b8166edb04608b895ff05e19fc624",
       "max": 1000000,
       "step": 100,
       "style": "IPY_MODEL_d816722a530a4c6da510afb95d90e85f"
      }
     },
     "2d8a86df21da462bb3e632784f331f2e": {
      "model_module": "@jupyter-widgets/controls",
      "model_module_version": "1.4.0",
      "model_name": "SliderStyleModel",
      "state": {
       "description_width": "initial"
      }
     },
     "3bd5b309cad940a48a2850298f3858bc": {
      "model_module": "@jupyter-widgets/controls",
      "model_module_version": "1.4.0",
      "model_name": "VBoxModel",
      "state": {
       "children": [
        "IPY_MODEL_08118d8709b447c7be8c5cd1fa5c07f5",
        "IPY_MODEL_6b0b3a568f1c4ad5b89345ce08a46655"
       ],
       "layout": "IPY_MODEL_6629e567010e4f87b1b6699be4c451c9"
      }
     },
     "4060c03dfb23462fb85d840c29dd22c3": {
      "model_module": "@jupyter-widgets/controls",
      "model_module_version": "1.4.0",
      "model_name": "IntSliderModel",
      "state": {
       "continuous_update": false,
       "description": "Routes per month",
       "layout": "IPY_MODEL_199b8166edb04608b895ff05e19fc624",
       "max": 1000000,
       "step": 100,
       "style": "IPY_MODEL_2d8a86df21da462bb3e632784f331f2e"
      }
     },
     "40d392bc93134e04ae5a152acfee651f": {
      "model_module": "@jupyter-widgets/base",
      "model_module_version": "1.1.0",
      "model_name": "LayoutModel",
      "state": {
       "align_items": "stretch",
       "display": "flex",
       "width": "100%"
      }
     },
     "4346265bae484425b3cf144b81fc28ec": {
      "model_module": "@jupyter-widgets/controls",
      "model_module_version": "1.4.0",
      "model_name": "DropdownModel",
      "state": {
       "_options_labels": [
        "Google",
        "ESRI",
        "geocoder.ca",
        "Here",
        "Azure",
        "Loqate",
        "geocodio"
       ],
       "description": "Geocode provider",
       "index": 0,
       "layout": "IPY_MODEL_199b8166edb04608b895ff05e19fc624",
       "style": "IPY_MODEL_abaf99f8e2d34e97957ac22b0aa3de5e"
      }
     },
     "449393e4a52f49dcbb196eb069a9e1f8": {
      "model_module": "@jupyter-widgets/output",
      "model_module_version": "1.0.0",
      "model_name": "OutputModel",
      "state": {
       "layout": "IPY_MODEL_a7484e678f4345f5a41e83286cd17c30",
       "outputs": [
        {
         "data": {
          "text/html": "<table border=\"1\" class=\"dataframe\">\n  <thead>\n    <tr style=\"text-align: right;\">\n      <th>Provider</th>\n      <th>Monthly Charge (USD)</th>\n    </tr>\n  </thead>\n  <tbody>\n    <tr>\n      <td>Google</td>\n      <td>$0.00</td>\n    </tr>\n    <tr>\n      <td>ESRI</td>\n      <td>$0.00</td>\n    </tr>\n    <tr>\n      <td>geocoder.ca</td>\n      <td>$0.00</td>\n    </tr>\n    <tr>\n      <td>Here</td>\n      <td>$0.00</td>\n    </tr>\n    <tr>\n      <td>Azure</td>\n      <td>$0.00</td>\n    </tr>\n    <tr>\n      <td>Loqate</td>\n      <td>$0.00</td>\n    </tr>\n    <tr>\n      <td>geocodio</td>\n      <td>$0.00</td>\n    </tr>\n  </tbody>\n</table>",
          "text/plain": "<IPython.core.display.HTML object>"
         },
         "metadata": {},
         "output_type": "display_data"
        }
       ]
      }
     },
     "44d913c8dc6347be943b1bc6b5aebc44": {
      "model_module": "@jupyter-widgets/controls",
      "model_module_version": "1.4.0",
      "model_name": "DropdownModel",
      "state": {
       "_options_labels": [
        "Google",
        "ESRI",
        "Here",
        "Azure"
       ],
       "description": "Distance matrix provider",
       "index": 1,
       "layout": "IPY_MODEL_1e69cb36b8574dc9965b6f76ed82c04d",
       "style": "IPY_MODEL_731aa99ed5494c929ebfa2db756fb6d7"
      }
     },
     "50cf95825aaf44e0bc7eace60b010d66": {
      "model_module": "@jupyter-widgets/controls",
      "model_module_version": "1.4.0",
      "model_name": "SliderStyleModel",
      "state": {
       "description_width": "initial"
      }
     },
     "6629e567010e4f87b1b6699be4c451c9": {
      "model_module": "@jupyter-widgets/base",
      "model_module_version": "1.1.0",
      "model_name": "LayoutModel",
      "state": {}
     },
     "6b0b3a568f1c4ad5b89345ce08a46655": {
      "model_module": "@jupyter-widgets/output",
      "model_module_version": "1.0.0",
      "model_name": "OutputModel",
      "state": {
       "layout": "IPY_MODEL_cf442d2979374632b91830740894b997",
       "outputs": [
        {
         "data": {
          "text/html": "<table border=\"1\" class=\"dataframe\">\n  <thead>\n    <tr style=\"text-align: right;\">\n      <th>Provider</th>\n      <th>Monthly Charge (USD)</th>\n    </tr>\n  </thead>\n  <tbody>\n    <tr>\n      <td>Google</td>\n      <td>$960.00</td>\n    </tr>\n    <tr>\n      <td>ESRI</td>\n      <td>$0.00</td>\n    </tr>\n    <tr>\n      <td>geocoder.ca</td>\n      <td>$0.00</td>\n    </tr>\n    <tr>\n      <td>Here</td>\n      <td>$0.00</td>\n    </tr>\n    <tr>\n      <td>Azure</td>\n      <td>$0.00</td>\n    </tr>\n    <tr>\n      <td>Loqate</td>\n      <td>$0.00</td>\n    </tr>\n    <tr>\n      <td>geocodio</td>\n      <td>$0.00</td>\n    </tr>\n  </tbody>\n</table>",
          "text/plain": "<IPython.core.display.HTML object>"
         },
         "metadata": {},
         "output_type": "display_data"
        }
       ]
      }
     },
     "6f113fa73a804f32bdcede9ebd2d67e7": {
      "model_module": "@jupyter-widgets/controls",
      "model_module_version": "1.4.0",
      "model_name": "VBoxModel",
      "state": {
       "children": [
        "IPY_MODEL_e34c87721e4c44e5abd8c8554e4179cf",
        "IPY_MODEL_f103c72afb63407b96c852d9c0320498",
        "IPY_MODEL_175baf0b025b4d46a4530bda431ee5d6"
       ],
       "layout": "IPY_MODEL_92878c1aeea3486e907112e7467318f9"
      }
     },
     "731aa99ed5494c929ebfa2db756fb6d7": {
      "model_module": "@jupyter-widgets/controls",
      "model_module_version": "1.4.0",
      "model_name": "DescriptionStyleModel",
      "state": {
       "description_width": "initial"
      }
     },
     "732861ac2531437ca3f6e9ad04b8c33f": {
      "model_module": "@jupyter-widgets/base",
      "model_module_version": "1.1.0",
      "model_name": "LayoutModel",
      "state": {}
     },
     "7a112f45fd9c47ee9d3651df64523aad": {
      "model_module": "@jupyter-widgets/base",
      "model_module_version": "1.1.0",
      "model_name": "LayoutModel",
      "state": {
       "align_items": "stretch",
       "display": "flex",
       "width": "70%"
      }
     },
     "7e9d48dd5eb2440ba0138da676a2de11": {
      "model_module": "@jupyter-widgets/controls",
      "model_module_version": "1.4.0",
      "model_name": "VBoxModel",
      "state": {
       "children": [
        "IPY_MODEL_8aa8019a0273458faad0f5fed5e0e2f0",
        "IPY_MODEL_fb140c4fe5b649998445d1b61b78a200",
        "IPY_MODEL_e04c35bcefb44c1fac0064829308544d"
       ],
       "layout": "IPY_MODEL_2621a9a4529d402880013d9191f0774f"
      }
     },
     "7fd5f11ebcf049989aab06b8ab3008a8": {
      "model_module": "@jupyter-widgets/controls",
      "model_module_version": "1.4.0",
      "model_name": "VBoxModel",
      "state": {
       "children": [
        "IPY_MODEL_044cf9d6141e45898e637cdbd967757d",
        "IPY_MODEL_449393e4a52f49dcbb196eb069a9e1f8"
       ],
       "layout": "IPY_MODEL_08911fb067414bb2a6c69478f7a79a67"
      }
     },
     "80e1b265ed324e17bf7f68ceca04e3f9": {
      "model_module": "@jupyter-widgets/base",
      "model_module_version": "1.1.0",
      "model_name": "LayoutModel",
      "state": {
       "align_items": "stretch",
       "display": "flex",
       "width": "30%"
      }
     },
     "817f3785dbe446a98df46623f37daf01": {
      "model_module": "@jupyter-widgets/controls",
      "model_module_version": "1.4.0",
      "model_name": "IntSliderModel",
      "state": {
       "continuous_update": false,
       "description": "Geocodes per month",
       "layout": "IPY_MODEL_199b8166edb04608b895ff05e19fc624",
       "max": 2500000,
       "step": 100,
       "style": "IPY_MODEL_9cdc9cb35a3e46ce9d3b6d8661235e46",
       "value": 1000
      }
     },
     "82be25420b594d0eb0997c87d7c2cf30": {
      "model_module": "@jupyter-widgets/output",
      "model_module_version": "1.0.0",
      "model_name": "OutputModel",
      "state": {
       "layout": "IPY_MODEL_b284638cd83b49df823c2bcb83bd36dd",
       "outputs": [
        {
         "data": {
          "text/html": "<table border=\"1\" class=\"dataframe\">\n  <thead>\n    <tr style=\"text-align: right;\">\n      <th>Provider</th>\n      <th>Monthly Charge (USD)</th>\n    </tr>\n  </thead>\n  <tbody>\n    <tr>\n      <td>Google</td>\n      <td>$0.00</td>\n    </tr>\n    <tr>\n      <td>ESRI</td>\n      <td>$0.00</td>\n    </tr>\n    <tr>\n      <td>geocoder.ca</td>\n      <td>$0.00</td>\n    </tr>\n    <tr>\n      <td>Here</td>\n      <td>$0.00</td>\n    </tr>\n    <tr>\n      <td>Azure</td>\n      <td>$0.00</td>\n    </tr>\n    <tr>\n      <td>Loqate</td>\n      <td>$0.00</td>\n    </tr>\n    <tr>\n      <td>geocodio</td>\n      <td>$0.00</td>\n    </tr>\n  </tbody>\n</table>",
          "text/plain": "<IPython.core.display.HTML object>"
         },
         "metadata": {},
         "output_type": "display_data"
        }
       ]
      }
     },
     "855d77e600e545bdb18937bce0e914ab": {
      "model_module": "@jupyter-widgets/controls",
      "model_module_version": "1.4.0",
      "model_name": "VBoxModel",
      "state": {
       "children": [
        "IPY_MODEL_dd1e654a54e64d978162f20dfb9fdf38",
        "IPY_MODEL_0ea881fcee624c599b81ca030ca00034",
        "IPY_MODEL_9ed1ef6919574331962526a4ddf88bee"
       ],
       "layout": "IPY_MODEL_e1701ada6a6648079e47b310be30211e"
      }
     },
     "8aa8019a0273458faad0f5fed5e0e2f0": {
      "model_module": "@jupyter-widgets/controls",
      "model_module_version": "1.4.0",
      "model_name": "IntSliderModel",
      "state": {
       "continuous_update": false,
       "description": "Geocodes per month",
       "layout": "IPY_MODEL_1e69cb36b8574dc9965b6f76ed82c04d",
       "max": 2500000,
       "step": 100,
       "style": "IPY_MODEL_ed7e9b1ed4bc46208bf9d6198a07e0f8"
      }
     },
     "92878c1aeea3486e907112e7467318f9": {
      "model_module": "@jupyter-widgets/base",
      "model_module_version": "1.1.0",
      "model_name": "LayoutModel",
      "state": {
       "align_items": "stretch",
       "display": "flex",
       "width": "70%"
      }
     },
     "99d825e381314172af2d1c200a37f6ca": {
      "model_module": "@jupyter-widgets/controls",
      "model_module_version": "1.4.0",
      "model_name": "DropdownModel",
      "state": {
       "_options_labels": [
        "Google",
        "ESRI",
        "Here",
        "Azure",
        "Loqate"
       ],
       "description": "Route provider",
       "index": 1,
       "layout": "IPY_MODEL_1e69cb36b8574dc9965b6f76ed82c04d",
       "style": "IPY_MODEL_e0af459bda8948e1ae1bf6e42691e624"
      }
     },
     "9cdc9cb35a3e46ce9d3b6d8661235e46": {
      "model_module": "@jupyter-widgets/controls",
      "model_module_version": "1.4.0",
      "model_name": "SliderStyleModel",
      "state": {
       "description_width": "initial"
      }
     },
     "9ed1ef6919574331962526a4ddf88bee": {
      "model_module": "@jupyter-widgets/controls",
      "model_module_version": "1.4.0",
      "model_name": "DropdownModel",
      "state": {
       "_options_labels": [
        "Google",
        "ESRI",
        "Here",
        "Azure"
       ],
       "description": "Distance matrix provider",
       "index": 0,
       "layout": "IPY_MODEL_2857e76d59e74a78a3a85872409db909",
       "style": "IPY_MODEL_b53c1ede82044eef9c2724b1c3f86497"
      }
     },
     "a7484e678f4345f5a41e83286cd17c30": {
      "model_module": "@jupyter-widgets/base",
      "model_module_version": "1.1.0",
      "model_name": "LayoutModel",
      "state": {}
     },
     "aa3efd6751a441c7ab9955135c45d3e7": {
      "model_module": "@jupyter-widgets/controls",
      "model_module_version": "1.4.0",
      "model_name": "SliderStyleModel",
      "state": {
       "description_width": "initial"
      }
     },
     "abaf99f8e2d34e97957ac22b0aa3de5e": {
      "model_module": "@jupyter-widgets/controls",
      "model_module_version": "1.4.0",
      "model_name": "DescriptionStyleModel",
      "state": {
       "description_width": "initial"
      }
     },
     "abd93c053cbe453cbae8dc509ea8fd4e": {
      "model_module": "@jupyter-widgets/controls",
      "model_module_version": "1.4.0",
      "model_name": "DropdownModel",
      "state": {
       "_options_labels": [
        "Google",
        "ESRI",
        "Here",
        "Azure"
       ],
       "description": "Distance matrix provider",
       "index": 0,
       "layout": "IPY_MODEL_199b8166edb04608b895ff05e19fc624",
       "style": "IPY_MODEL_d83accbed07f48079c6ede9817e67738"
      }
     },
     "b284638cd83b49df823c2bcb83bd36dd": {
      "model_module": "@jupyter-widgets/base",
      "model_module_version": "1.1.0",
      "model_name": "LayoutModel",
      "state": {}
     },
     "b53c1ede82044eef9c2724b1c3f86497": {
      "model_module": "@jupyter-widgets/controls",
      "model_module_version": "1.4.0",
      "model_name": "DescriptionStyleModel",
      "state": {
       "description_width": "initial"
      }
     },
     "ce540bf0202a40f3aa1531a03c9f1102": {
      "model_module": "@jupyter-widgets/base",
      "model_module_version": "1.1.0",
      "model_name": "LayoutModel",
      "state": {
       "align_items": "stretch",
       "display": "flex",
       "width": "100%"
      }
     },
     "cf442d2979374632b91830740894b997": {
      "model_module": "@jupyter-widgets/base",
      "model_module_version": "1.1.0",
      "model_name": "LayoutModel",
      "state": {}
     },
     "d816722a530a4c6da510afb95d90e85f": {
      "model_module": "@jupyter-widgets/controls",
      "model_module_version": "1.4.0",
      "model_name": "SliderStyleModel",
      "state": {
       "description_width": "initial"
      }
     },
     "d83accbed07f48079c6ede9817e67738": {
      "model_module": "@jupyter-widgets/controls",
      "model_module_version": "1.4.0",
      "model_name": "DescriptionStyleModel",
      "state": {
       "description_width": "initial"
      }
     },
     "dd1e654a54e64d978162f20dfb9fdf38": {
      "model_module": "@jupyter-widgets/controls",
      "model_module_version": "1.4.0",
      "model_name": "DropdownModel",
      "state": {
       "_options_labels": [
        "Google",
        "ESRI",
        "geocoder.ca",
        "Here",
        "Azure",
        "Loqate",
        "geocodio"
       ],
       "description": "Geocode provider",
       "index": 0,
       "layout": "IPY_MODEL_2857e76d59e74a78a3a85872409db909",
       "style": "IPY_MODEL_0d653b5353e4423cbe39c1cb8df05283"
      }
     },
     "e04c35bcefb44c1fac0064829308544d": {
      "model_module": "@jupyter-widgets/controls",
      "model_module_version": "1.4.0",
      "model_name": "IntSliderModel",
      "state": {
       "continuous_update": false,
       "description": "OD pairs per month",
       "layout": "IPY_MODEL_1e69cb36b8574dc9965b6f76ed82c04d",
       "max": 1000000,
       "step": 100,
       "style": "IPY_MODEL_50cf95825aaf44e0bc7eace60b010d66"
      }
     },
     "e0af459bda8948e1ae1bf6e42691e624": {
      "model_module": "@jupyter-widgets/controls",
      "model_module_version": "1.4.0",
      "model_name": "DescriptionStyleModel",
      "state": {
       "description_width": "initial"
      }
     },
     "e1701ada6a6648079e47b310be30211e": {
      "model_module": "@jupyter-widgets/base",
      "model_module_version": "1.1.0",
      "model_name": "LayoutModel",
      "state": {
       "align_items": "stretch",
       "display": "flex",
       "width": "30%"
      }
     },
     "e34c87721e4c44e5abd8c8554e4179cf": {
      "model_module": "@jupyter-widgets/controls",
      "model_module_version": "1.4.0",
      "model_name": "IntSliderModel",
      "state": {
       "continuous_update": false,
       "description": "Geocodes per month",
       "layout": "IPY_MODEL_2857e76d59e74a78a3a85872409db909",
       "max": 2500000,
       "step": 100,
       "style": "IPY_MODEL_fa555d7d03f342aa90194edfae78fe69",
       "value": 140100
      }
     },
     "e5b40562017f40af8fbd5b40def4fcb9": {
      "model_module": "@jupyter-widgets/controls",
      "model_module_version": "1.4.0",
      "model_name": "VBoxModel",
      "state": {
       "children": [
        "IPY_MODEL_042b7ad0f7454a59afa37b3cea39c11b",
        "IPY_MODEL_82be25420b594d0eb0997c87d7c2cf30"
       ],
       "layout": "IPY_MODEL_732861ac2531437ca3f6e9ad04b8c33f"
      }
     },
     "ed7e9b1ed4bc46208bf9d6198a07e0f8": {
      "model_module": "@jupyter-widgets/controls",
      "model_module_version": "1.4.0",
      "model_name": "SliderStyleModel",
      "state": {
       "description_width": "initial"
      }
     },
     "ee788afd46c340b284b56a71cf5dafc6": {
      "model_module": "@jupyter-widgets/controls",
      "model_module_version": "1.4.0",
      "model_name": "VBoxModel",
      "state": {
       "children": [
        "IPY_MODEL_4346265bae484425b3cf144b81fc28ec",
        "IPY_MODEL_045be8b836324220998d58b080a87851",
        "IPY_MODEL_abd93c053cbe453cbae8dc509ea8fd4e"
       ],
       "layout": "IPY_MODEL_80e1b265ed324e17bf7f68ceca04e3f9"
      }
     },
     "f103c72afb63407b96c852d9c0320498": {
      "model_module": "@jupyter-widgets/controls",
      "model_module_version": "1.4.0",
      "model_name": "IntSliderModel",
      "state": {
       "continuous_update": false,
       "description": "Routes per month",
       "layout": "IPY_MODEL_2857e76d59e74a78a3a85872409db909",
       "max": 1000000,
       "step": 100,
       "style": "IPY_MODEL_24dea6655bcf4993a418f8f3dd46c3c9",
       "value": 17000
      }
     },
     "fa555d7d03f342aa90194edfae78fe69": {
      "model_module": "@jupyter-widgets/controls",
      "model_module_version": "1.4.0",
      "model_name": "SliderStyleModel",
      "state": {
       "description_width": "initial"
      }
     },
     "faa3aa73238e451daf1ba4ba98452ab0": {
      "model_module": "@jupyter-widgets/base",
      "model_module_version": "1.1.0",
      "model_name": "LayoutModel",
      "state": {
       "align_items": "stretch",
       "display": "flex",
       "width": "30%"
      }
     },
     "fb140c4fe5b649998445d1b61b78a200": {
      "model_module": "@jupyter-widgets/controls",
      "model_module_version": "1.4.0",
      "model_name": "IntSliderModel",
      "state": {
       "continuous_update": false,
       "description": "Routes per month",
       "layout": "IPY_MODEL_1e69cb36b8574dc9965b6f76ed82c04d",
       "max": 1000000,
       "step": 100,
       "style": "IPY_MODEL_aa3efd6751a441c7ab9955135c45d3e7"
      }
     }
    },
    "version_major": 2,
    "version_minor": 0
   }
  }
 },
 "nbformat": 4,
 "nbformat_minor": 2
}