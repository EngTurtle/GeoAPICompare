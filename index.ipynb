{
 "cells": [
  {
   "cell_type": "markdown",
   "metadata": {},
   "source": [
    "# GeoAPI price comparison\n",
    "\n",
    "The applet at the bottom of the notebook estimates the monthly charge for using various GeoAPI providers in your project."
   ]
  },
  {
   "cell_type": "code",
   "execution_count": 1,
   "metadata": {
    "hide_input": false,
    "pycharm": {
     "is_executing": false
    },
    "scrolled": true
   },
   "outputs": [],
   "source": [
    "import numpy as np\n",
    "from ipywidgets import Layout, Button, Box\n",
    "import ipywidgets as widgets\n",
    "from IPython.display import display, HTML\n",
    "import pandas as pd"
   ]
  },
  {
   "cell_type": "markdown",
   "metadata": {},
   "source": [
    "https://cloud.google.com/maps-platform/pricing/sheet/"
   ]
  },
  {
   "cell_type": "code",
   "execution_count": 2,
   "metadata": {
    "pycharm": {
     "is_executing": false
    }
   },
   "outputs": [],
   "source": [
    "def google(geocode=0, route=0, distmat=0, freecredit=True):\n",
    "    funclist = [\n",
    "        lambda x: (x * 0.004) + 500,\n",
    "        lambda x: x * 0.005,\n",
    "        lambda _: np.nan\n",
    "    ]\n",
    "\n",
    "    credit = 0.\n",
    "    if freecredit:\n",
    "        credit = 200.\n",
    "    out = geocode + route + distmat\n",
    "    condlist = [\n",
    "        (100000 < out) and (out <= 500000),\n",
    "        (0 <= out) and (out <= 100000),\n",
    "    ]\n",
    "    out = np.piecewise(geocode + route + distmat,\n",
    "                       condlist=condlist,\n",
    "                       funclist=funclist) - credit\n",
    "    return np.piecewise(out, condlist=[out > 0],\n",
    "                        funclist=[\n",
    "                            lambda x: x,\n",
    "                            0\n",
    "                        ])\n",
    "\n",
    "assert google() == 0"
   ]
  },
  {
   "cell_type": "markdown",
   "metadata": {},
   "source": [
    "https://developers.arcgis.com/pricing/credits/"
   ]
  },
  {
   "cell_type": "code",
   "execution_count": 3,
   "metadata": {
    "pycharm": {
     "is_executing": false
    }
   },
   "outputs": [],
   "source": [
    "def esri(geocode=0, route=0, distmat=0, freecredit=True):\n",
    "    nans = geocode + route + distmat > 1000000\n",
    "\n",
    "    geocode = geocode * 0.004\n",
    "    route = route * 0.0005\n",
    "    distmat = distmat * 0.00005\n",
    "    credit = 0.\n",
    "    if freecredit:\n",
    "        credit = 5.\n",
    "\n",
    "    out = (geocode + route + distmat) - credit\n",
    "\n",
    "    if type(out) is np.ndarray:\n",
    "        out[nans] = np.nan\n",
    "    elif nans:\n",
    "        return np.nan\n",
    "\n",
    "    return np.piecewise(out, condlist=[out > 0],\n",
    "                        funclist=[\n",
    "                            lambda x: x,\n",
    "                            0.\n",
    "                        ])\n",
    "\n",
    "assert esri() == 0"
   ]
  },
  {
   "cell_type": "markdown",
   "metadata": {},
   "source": [
    "https://geocoder.ca/pricing"
   ]
  },
  {
   "cell_type": "code",
   "execution_count": 4,
   "metadata": {
    "pycharm": {
     "is_executing": false
    }
   },
   "outputs": [],
   "source": [
    "def geocoder_ca(geocode=0, route=0, distmat=0, freecredit=True):\n",
    "    assert np.sum(route) == 0\n",
    "    assert np.sum(distmat) == 0\n",
    "\n",
    "    if freecredit:\n",
    "        geocode = geocode - 76050\n",
    "    return np.piecewise(geocode,\n",
    "                        condlist=[\n",
    "                            geocode > 200000,\n",
    "                            (geocode <= 200000) and (geocode >= 0)\n",
    "                        ],\n",
    "                        funclist=[\n",
    "                            500.,\n",
    "                            lambda x: x * 0.0025,\n",
    "                            0.\n",
    "                        ])\n",
    "\n",
    "assert geocoder_ca() == 0"
   ]
  },
  {
   "cell_type": "markdown",
   "metadata": {},
   "source": [
    "https://developer.here.com/plans"
   ]
  },
  {
   "cell_type": "code",
   "execution_count": 5,
   "metadata": {
    "pycharm": {
     "is_executing": false
    }
   },
   "outputs": [],
   "source": [
    "def here(geocode=0, route=0, distmat=0, freecredit=False):\n",
    "    \"\"\"\n",
    "    for matrix Routing one transaction is counted for each start point request\n",
    "    \"\"\"\n",
    "    out = geocode + route + distmat\n",
    "    out = np.array(out, dtype=float)\n",
    "    return np.piecewise(out,\n",
    "                        condlist=[\n",
    "                            (out > 449000) and (out <= 1000000),\n",
    "                            (out > 250000) and (out <= 449000),\n",
    "                            (out >= 0) and (out <= 250000)\n",
    "                        ],\n",
    "                        funclist=[\n",
    "                            449.,\n",
    "                            lambda x: x / 1000,\n",
    "                            0.,\n",
    "                            np.nan\n",
    "                        ])\n",
    "\n",
    "assert here() == 0"
   ]
  },
  {
   "cell_type": "markdown",
   "metadata": {},
   "source": [
    "https://azure.microsoft.com/en-ca/pricing/details/azure-maps/"
   ]
  },
  {
   "cell_type": "code",
   "execution_count": 6,
   "metadata": {
    "pycharm": {
     "is_executing": false
    }
   },
   "outputs": [],
   "source": [
    "def azure(geocode=0, route=0, distmat=0, freecredit=True):\n",
    "    price = 0.0005\n",
    "    free_trans = 0\n",
    "    if freecredit:\n",
    "        free_trans = 25000\n",
    "    if np.sum(distmat) > 0:\n",
    "        price = 0.005\n",
    "        free_trans = 0\n",
    "    out = geocode + route + distmat\n",
    "    out = np.array(out, dtype=float)\n",
    "    return np.piecewise(out,\n",
    "                        condlist=[out <= free_trans],\n",
    "                        funclist=[\n",
    "                            0.,\n",
    "                            lambda x: (x - free_trans) * price\n",
    "                        ])\n",
    "\n",
    "assert azure() == 0"
   ]
  },
  {
   "cell_type": "markdown",
   "metadata": {},
   "source": [
    "https://www.loqate.com/en-us/pricing/price-per-lookup/"
   ]
  },
  {
   "cell_type": "code",
   "execution_count": 7,
   "metadata": {
    "pycharm": {
     "is_executing": false
    }
   },
   "outputs": [],
   "source": [
    "def loqate(geocode=0, route=0, distmat=0, freecredit=False):\n",
    "    \"\"\"\n",
    "    The requests are purchased in packages of $100, $300, or $1000\n",
    "    and each package is good for 12 months\n",
    "\n",
    "    so calculations are based on the average monthly cost over a year\n",
    "    \"\"\"\n",
    "    assert np.sum(distmat) == 0\n",
    "    geocode = geocode * 12\n",
    "    geocode = np.piecewise(geocode,\n",
    "                           condlist=[\n",
    "                               geocode > 28669,\n",
    "                               (geocode > 8012) and (geocode <= 28669),\n",
    "                               (geocode > 2500) and (geocode <= 8012),\n",
    "                               (geocode > 0) and (geocode <= 2500)\n",
    "                           ],\n",
    "                           funclist=[\n",
    "                               lambda x: np.ceil(x / 28669) * 1000,\n",
    "                               1000.,\n",
    "                               300.,\n",
    "                               100.,\n",
    "                               0\n",
    "                           ]) / 12.\n",
    "    route = route * 12\n",
    "    route = np.piecewise(route,\n",
    "                         condlist=[\n",
    "                             route > 14084,\n",
    "                             (route > 3370) and (route <= 14084),\n",
    "                             (route > 1000) and (route <= 3370),\n",
    "                             (route > 0) and (route <= 1000)\n",
    "                         ],\n",
    "                         funclist=[\n",
    "                             lambda x: np.ceil(x / 14084) * 1000,\n",
    "                             1000.,\n",
    "                             300.,\n",
    "                             100.,\n",
    "                             0\n",
    "                         ]) / 12.\n",
    "    return np.array(geocode + route, dtype=float)\n",
    "\n",
    "assert loqate() == 0"
   ]
  },
  {
   "cell_type": "markdown",
   "metadata": {},
   "source": [
    "https://www.geocod.io/pricing/"
   ]
  },
  {
   "cell_type": "code",
   "execution_count": 8,
   "metadata": {
    "hide_input": false,
    "pycharm": {
     "is_executing": false
    },
    "scrolled": true
   },
   "outputs": [],
   "source": [
    "def geocodio(geocode=0, route=0, distmat=0, freecredit=True):\n",
    "    assert np.sum(route) == 0\n",
    "    assert np.sum(distmat) == 0\n",
    "    geocode = np.array(geocode, dtype=float)\n",
    "    if freecredit:\n",
    "        geocode = geocode - 76050.\n",
    "    return np.piecewise(geocode,\n",
    "                        condlist=[\n",
    "                            geocode > 1500000,\n",
    "                            (geocode <= 1500000) and (geocode > 0)\n",
    "                        ],\n",
    "                        funclist=[\n",
    "                            750.,\n",
    "                            lambda x: x * 0.0005,\n",
    "                            0.\n",
    "                        ])\n",
    "\n",
    "assert geocodio() == 0"
   ]
  },
  {
   "cell_type": "code",
   "execution_count": 9,
   "metadata": {
    "hide_input": true,
    "pycharm": {
     "is_executing": false
    }
   },
   "outputs": [],
   "source": [
    "geocoders = [\"Google\", \"ESRI\", \"geocoder.ca\", \"Here\",\n",
    "             \"Azure\", \"Loqate\", \"geocodio\"]\n",
    "\n",
    "routers = [\"Google\", \"ESRI\", \"\", \"Here\",\n",
    "             \"Azure\", \"Loqate\", \"\"]\n",
    "\n",
    "distmaters = [\"Google\", \"ESRI\", \"\", \"Here\",\n",
    "             \"Azure\", \"\", \"\"]"
   ]
  },
  {
   "cell_type": "code",
   "execution_count": 10,
   "metadata": {
    "hide_input": true
   },
   "outputs": [],
   "source": [
    "def cost(geocoder:str, geocode:int,\n",
    "         router:str, route:int,\n",
    "         distmater:str, distmat:int):\n",
    "    cost_functions = [google, esri, geocoder_ca, here, azure, loqate, geocodio]\n",
    "    \n",
    "    geocode_input = [0] * len(cost_functions)\n",
    "    route_input = [0] * len(cost_functions)\n",
    "    distmat_input = [0] * len(cost_functions)\n",
    "    \n",
    "    if geocoder in geocoders:\n",
    "        geocode_input[geocoders.index(geocoder)] = geocode\n",
    "        \n",
    "    if router in routers:\n",
    "        route_input[routers.index(router)] = route\n",
    "        \n",
    "    if distmater in distmaters:\n",
    "        distmat_input[distmaters.index(distmater)] = distmat\n",
    "        \n",
    "    inputs = zip(geocode_input, route_input, distmat_input)\n",
    "    out = {}\n",
    "    \n",
    "    for func, inp, name in zip(cost_functions, inputs, geocoders):\n",
    "        try:\n",
    "            funcout = func(*inp)\n",
    "            if np.isnan(funcout):\n",
    "                raise ValueError\n",
    "            out[name] = float(funcout)\n",
    "        except ValueError:\n",
    "            out[name] = \"Please contact \" + name\n",
    "    return out\n",
    "\n",
    "def cost_to_html(*args, **kwargs):\n",
    "    costs: dict = cost(*args, **kwargs)\n",
    "    for service in costs.keys():\n",
    "        if type(costs[service]) is float:\n",
    "            costs[service] = \"${:.2f}\".format(costs[service])\n",
    "    costs: pd.DataFrame = pd.DataFrame(zip(costs.keys(),costs.values()), columns=[\"Provider\", \"Monthly Charge (USD)\"])\n",
    "    return display(HTML(costs.to_html(index=False)))"
   ]
  },
  {
   "cell_type": "code",
   "execution_count": 11,
   "metadata": {
    "hide_input": true,
    "scrolled": true
   },
   "outputs": [],
   "source": [
    "selector_layout = Layout(display='flex',align_items='stretch', width='30%')\n",
    "num_layout = Layout(display='flex',align_items='stretch', width='70%')\n",
    "style = {'description_width': 'initial'}\n",
    "layout=Layout(display='flex',width='95%')\n",
    "\n",
    "geocoder_wig = widgets.Dropdown(\n",
    "    options=geocoders,\n",
    "    value='Google',\n",
    "    description='Geocode provider',\n",
    "    layout=layout,\n",
    "    style=style\n",
    "    \n",
    ")\n",
    "\n",
    "geocode_wig = widgets.IntSlider(\n",
    "    value=1000,\n",
    "    min=0,\n",
    "    max=2500000,\n",
    "    step=100,\n",
    "    description='Geocodes per month',\n",
    "    continuous_update=False,\n",
    "    layout=layout,\n",
    "    style=style\n",
    ")\n",
    "\n",
    "router_wig = widgets.Dropdown(\n",
    "    options=[r for r in routers if r != \"\"],\n",
    "    value='Google',\n",
    "    description='Route provider',\n",
    "    layout=layout,\n",
    "    style=style\n",
    ")\n",
    "\n",
    "route_wig = widgets.IntSlider(\n",
    "    value=1000,\n",
    "    min=0,\n",
    "    max=1000000,\n",
    "    step=100,\n",
    "    description='Routes per month',\n",
    "    continuous_update=False,\n",
    "    layout=layout,\n",
    "    style=style\n",
    ")\n",
    "\n",
    "distmater_wig = widgets.Dropdown(\n",
    "    options=[r for r in distmaters if r != \"\"],\n",
    "    value='Google',\n",
    "    description='Distance matrix provider',\n",
    "    layout=layout,\n",
    "    style=style\n",
    ")\n",
    "\n",
    "distmate_wig = widgets.IntSlider(\n",
    "    value=1000,\n",
    "    min=0,\n",
    "    max=1000000,\n",
    "    step=100,\n",
    "    description='OD pairs per month',\n",
    "    continuous_update=False,\n",
    "    layout=layout,\n",
    "    style=style\n",
    ")\n",
    "\n",
    "selector_wigs = widgets.VBox([geocoder_wig, router_wig, distmater_wig], layout=selector_layout)\n",
    "num_wigs = widgets.VBox([geocode_wig, route_wig, distmate_wig], layout=num_layout)\n",
    "\n",
    "input_wigs = widgets.HBox([selector_wigs, num_wigs], layout=Layout(display='flex',align_items='stretch', width='100%'))\n",
    "\n",
    "output_wig = widgets.interactive_output(cost_to_html, dict(\n",
    "                 geocoder=geocoder_wig, geocode=geocode_wig,\n",
    "                 router=router_wig, route=route_wig,\n",
    "                 distmater=distmater_wig, distmat=distmate_wig))\n",
    "\n",
    "out = widgets.VBox([input_wigs, output_wig])"
   ]
  },
  {
   "cell_type": "code",
   "execution_count": 12,
   "metadata": {
    "hide_input": true
   },
   "outputs": [
    {
     "data": {
      "application/vnd.jupyter.widget-view+json": {
       "model_id": "3bd5b309cad940a48a2850298f3858bc",
       "version_major": 2,
       "version_minor": 0
      },
      "text/plain": [
       "VBox(children=(HBox(children=(VBox(children=(Dropdown(description='Geocode provider', layout=Layout(display='f…"
      ]
     },
     "metadata": {},
     "output_type": "display_data"
    }
   ],
   "source": [
    "display(out)"
   ]
  }
 ],
 "metadata": {
  "kernelspec": {
   "display_name": "Python 3",
   "language": "python",
   "name": "python3"
  },
  "language_info": {
   "codemirror_mode": {
    "name": "ipython",
    "version": 3
   },
   "file_extension": ".py",
   "mimetype": "text/x-python",
   "name": "python",
   "nbconvert_exporter": "python",
   "pygments_lexer": "ipython3",
   "version": "3.7.3"
  },
  "pycharm": {
   "stem_cell": {
    "cell_type": "raw",
    "metadata": {
     "collapsed": false
    },
    "source": []
   }
  },
  "varInspector": {
   "cols": {
    "lenName": 16,
    "lenType": 16,
    "lenVar": 40
   },
   "kernels_config": {
    "python": {
     "delete_cmd_postfix": "",
     "delete_cmd_prefix": "del ",
     "library": "var_list.py",
     "varRefreshCmd": "print(var_dic_list())"
    },
    "r": {
     "delete_cmd_postfix": ") ",
     "delete_cmd_prefix": "rm(",
     "library": "var_list.r",
     "varRefreshCmd": "cat(var_dic_list()) "
    }
   },
   "types_to_exclude": [
    "module",
    "function",
    "builtin_function_or_method",
    "instance",
    "_Feature"
   ],
   "window_display": false
  }
 },
 "nbformat": 4,
 "nbformat_minor": 2
}
